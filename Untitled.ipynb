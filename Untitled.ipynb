{
 "cells": [
  {
   "cell_type": "code",
   "execution_count": 1,
   "id": "41ef98f4",
   "metadata": {},
   "outputs": [],
   "source": [
    "import pandas as pd\n",
    "import numpy as np\n",
    "\n",
    "from IPython.core.interactiveshell import InteractiveShell\n",
    "InteractiveShell.ast_node_interactivity = 'all'"
   ]
  },
  {
   "cell_type": "code",
   "execution_count": 14,
   "id": "9524e363",
   "metadata": {},
   "outputs": [
    {
     "name": "stdout",
     "output_type": "stream",
     "text": [
      "\n",
      " First level = [1, 2, 3]\n",
      "\n",
      "Second level = [[1], [2], [3]]\n",
      "\n"
     ]
    }
   ],
   "source": [
    "num = [1, 2, 3]\n",
    "\n",
    "num_1 = num\n",
    "print(f\"\\n First level = {num_1}\\n\")\n",
    "\n",
    "num_2 = [[n] for n in num_1]\n",
    "print(f\"Second level = {num_2}\\n\")"
   ]
  },
  {
   "cell_type": "code",
   "execution_count": 30,
   "id": "77142b03",
   "metadata": {},
   "outputs": [
    {
     "data": {
      "text/plain": [
       "{'a': 1, 'b': 2, 'c': 3}"
      ]
     },
     "execution_count": 30,
     "metadata": {},
     "output_type": "execute_result"
    },
    {
     "data": {
      "text/plain": [
       "{'a': [1], 'b': [2], 'c': [3]}"
      ]
     },
     "execution_count": 30,
     "metadata": {},
     "output_type": "execute_result"
    }
   ],
   "source": [
    "alpha = ['a', 'b', 'c']\n",
    "\n",
    "dict(zip(alpha, num_1))\n",
    "dict(zip(alpha, num_2))"
   ]
  },
  {
   "cell_type": "code",
   "execution_count": 32,
   "id": "ddb7e175",
   "metadata": {},
   "outputs": [
    {
     "name": "stdout",
     "output_type": "stream",
     "text": [
      "\n",
      "alpha_num = <zip object at 0x000001EB9A61ADC0>\n",
      "\n",
      "nums to list = [[1], [2], [3]]               \n",
      "\n",
      "\n",
      "alpha  = ['a', 'b', 'c']               \n",
      "\n",
      "alpha_1  = [['a'], ['b'], ['c']]         \n",
      "\n",
      "alpha_2  = ['a', 'b', 'c']               \n",
      "\n",
      "alpha_3  = [['a'], ['b'], ['c']]         \n",
      "\n",
      "lst = ['alice', 'bob', 'cara']      \n",
      "\n",
      "list of lists  = [['alice'], ['bob'], ['cara']]\n",
      "\n",
      "list of lists of lists = [[['alice']], [['bob']], [['cara']]]\n",
      "\n",
      "r = [['alice'], ['bob'], ['cara']]\n",
      "\n"
     ]
    }
   ],
   "source": [
    "alpha = ['a', 'b', 'c']\n",
    "\n",
    "alpha_num = zip(alpha, num_1)\n",
    "print(f\"\\nalpha_num = {str(alpha_num):30}\\n\")\n",
    "\n",
    "nums = np.array(num_2).reshape(-1, 1).tolist()\n",
    "print(f\"nums to list = {str(nums):30}\\n\")\n",
    "\n",
    "print(f\"\\nalpha  = {str(alpha):30}\\n\")\n",
    "\n",
    "alpha_1 = np.array(alpha).reshape(-1, 1).tolist()\n",
    "print(f\"alpha_1  = {str(alpha_1):30}\\n\")\n",
    "\n",
    "alpha_2 = [(a) for a in alpha]\n",
    "print(f\"alpha_2  = {str(alpha_2):30}\\n\")\n",
    "\n",
    "alpha_3 = [[a] for a in alpha]\n",
    "print(f\"alpha_3  = {str(alpha_3):30}\\n\")\n",
    "\n",
    "\n",
    "def convert_to_list_of_lists(lst):\n",
    "    return [[l] for l in lst]\n",
    "\n",
    "lst = ['alice', 'bob', 'cara']\n",
    "print(f\"lst = {str(lst):30}\\n\")\n",
    "\n",
    "res = convert_to_list_of_lists(lst)\n",
    "print(f\"list of lists  = {str(res):30}\\n\")\n",
    "\n",
    "re = convert_to_list_of_lists(res)\n",
    "print(f\"list of lists of lists = {str(re):30}\\n\")\n",
    "\n",
    "def list_of_lists(lst):\n",
    "    return np.array(lst).reshape(-1, 1).tolist()\n",
    "\n",
    "r = list_of_lists(re)\n",
    "print(f\"r = {str(r):30}\\n\")"
   ]
  },
  {
   "cell_type": "code",
   "execution_count": 29,
   "id": "81cf613a",
   "metadata": {},
   "outputs": [
    {
     "data": {
      "text/plain": [
       "[('a', 1), ('b', 2), ('c', 3)]"
      ]
     },
     "execution_count": 29,
     "metadata": {},
     "output_type": "execute_result"
    },
    {
     "data": {
      "text/plain": [
       "[(('a', 1),), (('b', 2),), (('c', 3),)]"
      ]
     },
     "execution_count": 29,
     "metadata": {},
     "output_type": "execute_result"
    },
    {
     "data": {
      "text/plain": [
       "[('a', 'b', 'c'), (1, 2, 3)]"
      ]
     },
     "execution_count": 29,
     "metadata": {},
     "output_type": "execute_result"
    },
    {
     "data": {
      "text/plain": [
       "{'a': [1], 'b': [2], 'c': [3]}"
      ]
     },
     "execution_count": 29,
     "metadata": {},
     "output_type": "execute_result"
    },
    {
     "data": {
      "text/plain": [
       "[('a', [1]), ('b', [2]), ('c', [3])]"
      ]
     },
     "execution_count": 29,
     "metadata": {},
     "output_type": "execute_result"
    },
    {
     "data": {
      "text/plain": [
       "[('a', 'b', 'c'), ([1], [2], [3])]"
      ]
     },
     "execution_count": 29,
     "metadata": {},
     "output_type": "execute_result"
    }
   ],
   "source": [
    "l_z = list(zip(alpha, num))\n",
    "\n",
    "l_z\n",
    "\n",
    "list(zip(l_z))\n",
    "\n",
    "list(zip(*l_z))\n",
    "\n",
    "dict(zip(alpha, num_2))\n",
    "\n",
    "list(zip(alpha, num_2))\n",
    "\n",
    "list(zip(*list(zip(alpha, num_2))))"
   ]
  },
  {
   "cell_type": "code",
   "execution_count": null,
   "id": "488aea30",
   "metadata": {},
   "outputs": [],
   "source": []
  }
 ],
 "metadata": {
  "kernelspec": {
   "display_name": "dev",
   "language": "python",
   "name": "python3"
  },
  "language_info": {
   "codemirror_mode": {
    "name": "ipython",
    "version": 3
   },
   "file_extension": ".py",
   "mimetype": "text/x-python",
   "name": "python",
   "nbconvert_exporter": "python",
   "pygments_lexer": "ipython3",
   "version": "3.12.7"
  }
 },
 "nbformat": 4,
 "nbformat_minor": 5
}
